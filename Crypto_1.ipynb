{
 "cells": [
  {
   "cell_type": "markdown",
   "metadata": {
    "id": "3h8rlLM0gQ8k"
   },
   "source": [
    "# **First Assignment of Algebra and Cryptography**\n",
    "\n"
   ]
  },
  {
   "cell_type": "markdown",
   "metadata": {
    "id": "kj40lyCgZjWW"
   },
   "source": [
    "## **Exercise 2**\n",
    "\n",
    "Bob intercepts from Alice the following encrypted message:\n",
    "\n",
    "[427849968240759007228494978639775081809\n",
    "\n",
    "498308250136673589542748543030806629941\n",
    "\n",
    "925288105342943743271024837479707225255\n",
    "\n",
    "95024328800414254907217356783906225740]\n",
    "\n",
    "Alice knows that Bob uses RSA cryptosystem and his public key is (12398737, n) where\n",
    "\n",
    "n = 956331992007843552652604425031376690367\n",
    "\n",
    "Knowing that Alice and Bob agreed to use RSA cryptosystem to communicate in secret, each\n",
    "message consist of a single letter which is encoded as: Space = 00, A = 11, B = 12, · · · , Z =\n",
    "36, which message did Alice sent to Bob?"
   ]
  },
  {
   "cell_type": "code",
   "execution_count": 37,
   "metadata": {
    "id": "qFIzzOVCZpEl"
   },
   "outputs": [],
   "source": [
    "from IPython import get_ipython\n",
    "from IPython.display import display\n",
    "from sympy import factorint\n",
    "import numpy as np\n",
    "\n",
    "\n",
    "def is_prime(n):\n",
    "  \"\"\"\n",
    "  Check if a number is prime.\n",
    "  \"\"\"\n",
    "  if n <= 1:\n",
    "      return False\n",
    "  if n <= 3:\n",
    "      return True\n",
    "  if n % 2 == 0 or n % 3 == 0:\n",
    "      return False\n",
    "  i = 5\n",
    "  while i * i <= n:\n",
    "      if n % i == 0 or n % (i + 2) == 0:\n",
    "          return False\n",
    "      i = i + 6\n",
    "  return True\n",
    "\n",
    "def erastothene_sieve(n):\n",
    "  R = int(n**(1/2))\n",
    "  #A = Prime_less_root(int(R))\n",
    "\n",
    "  for i in range(1, R+1):\n",
    "    if is_prime(i) == False:\n",
    "      return False\n",
    "    if n % i == 0:\n",
    "      return False\n",
    "  return True\n",
    "\n",
    "def Extended_Euclidean(a,b):\n",
    "  old_r = a\n",
    "  old_u = 1\n",
    "  old_v = 0\n",
    "  r = b\n",
    "  u = 0\n",
    "  v = 1\n",
    "\n",
    "  while r != 0:\n",
    "    quotient = old_r // r\n",
    "    old_r, r = r, old_r - quotient * r\n",
    "    old_u, u = u, old_u - quotient * u\n",
    "    old_v, v = v, old_v - quotient * v\n",
    "\n",
    "  d = old_r\n",
    "  u = old_u\n",
    "  v = v\n",
    "\n",
    "\n",
    "  return u, v, d\n",
    "\n",
    "def Euler_totient(n):\n",
    "  \"\"\"\n",
    "  Calculates Euler's totient function (phi) for a given integer n.\n",
    "\n",
    "  Args:\n",
    "    n: An integer greater than 1.\n",
    "\n",
    "  Returns:\n",
    "    The value of Euler's totient function for n.\n",
    "  \"\"\"\n",
    "  if n <= 1:\n",
    "      return 0\n",
    "  if erastothene_sieve(n):\n",
    "    return n - 1  # If n is prime, phi(n) = n - 1\n",
    "\n",
    "  factors = factorint(n)\n",
    "  if len(factors) == 1:\n",
    "    # If n is a power of a single prime (n = p^k)\n",
    "    p, k = list(factors.items())[0]\n",
    "    return p ** k - p ** (k - 1)\n",
    "  else:\n",
    "    # If n has multiple prime factors\n",
    "    phi = 1\n",
    "    for p, k in factors.items():\n",
    "        phi *= (p ** k - p**(k-1))\n",
    "    return phi\n",
    "\n",
    "\n",
    "def inverse(a, n):\n",
    "  u, v, d = Extended_Euclidean(a, n)\n",
    "  if d != 1:\n",
    "    return \"a is not invertible in Z/nZ\"\n",
    "  return u % n\n",
    "\n",
    "\n",
    "def decrypted(e, n, M):\n",
    "  phi = Euler_totient(n)\n",
    "  u, v, d = Extended_Euclidean(e, phi)\n",
    "  if d!= 1:\n",
    "    return\n",
    "  secret_key = inverse(e, phi)\n",
    "  decrypt = pow(M, secret_key, n)\n",
    "  return decrypt\n",
    "\n",
    "def numbers_to_letters(input_string):\n",
    "    \"\"\"Converts numbers (00-36) to letters (Space, A-Z).\"\"\"\n",
    "    letter_map = {\n",
    "        \"00\": \" \",\n",
    "        \"11\": \"A\", \"12\": \"B\", \"13\": \"C\", \"14\": \"D\", \"15\": \"E\", \"16\": \"F\", \"17\": \"G\",\n",
    "        \"18\": \"H\", \"19\": \"I\", \"20\": \"J\", \"21\": \"K\", \"22\": \"L\", \"23\": \"M\", \"24\": \"N\",\n",
    "        \"25\": \"O\", \"26\": \"P\", \"27\": \"Q\", \"28\": \"R\", \"29\": \"S\", \"30\": \"T\", \"31\": \"U\",\n",
    "        \"32\": \"V\", \"33\": \"W\", \"34\": \"X\", \"35\": \"Y\", \"36\": \"Z\"\n",
    "    }\n",
    "    message = \"\"\n",
    "    input_string = str(input_string)\n",
    "    for i in range(0, len(input_string), 2):\n",
    "          pair = input_string[i:i+2]\n",
    "          #print(f\"Processing pair: {pair}\")\n",
    "\n",
    "          for key, value in letter_map.items():\n",
    "            if key == pair:\n",
    "              message += value\n",
    "              break\n",
    "    return message\n",
    "\n",
    "\n"
   ]
  },
  {
   "cell_type": "code",
   "execution_count": 38,
   "metadata": {
    "colab": {
     "base_uri": "https://localhost:8080/"
    },
    "id": "eT3_jdlRZy_8",
    "outputId": "fea180d9-bffc-4000-f592-97f138cd1270"
   },
   "outputs": [
    {
     "name": "stdout",
     "output_type": "stream",
     "text": [
      "THIS IS MY LETTER T\n",
      "O THE WORLD THAT NE\n",
      "VER WROTE TO ME EMI\n",
      "LY DICKINSON\n",
      "=========================================================\n",
      "The message is:  THIS IS MY LETTER TO THE WORLD THAT NEVER WROTE TO ME EMILY DICKINSON\n",
      "=========================================================\n"
     ]
    }
   ],
   "source": [
    "# Encrypted messages\n",
    "Messages = [427849968240759007228494978639775081809,\n",
    "            498308250136673589542748543030806629941,\n",
    "            925288105342943743271024837479707225255,\n",
    "            95024328800414254907217356783906225740,\n",
    "            ]\n",
    "\n",
    "# The modulus\n",
    "n = 956331992007843552652604425031376690367\n",
    "# Public key exponent\n",
    "e = 12398737\n",
    "\n",
    "Final_message = \"\"\n",
    "# Decrypt and print the messages\n",
    "for i in range(len(Messages)):\n",
    "    decrypt = decrypted(e, n, Messages[i])\n",
    "    #print(decrypt)\n",
    "    print(numbers_to_letters(decrypt))\n",
    "    Final_message += numbers_to_letters(decrypt)\n",
    "\n",
    "print(\"=========================================================\")\n",
    "print(\"The message is: \", Final_message)\n",
    "print(\"=========================================================\")\n"
   ]
  },
  {
   "cell_type": "markdown",
   "metadata": {
    "id": "JTDAcZ-iYYGK"
   },
   "source": [
    "# Exercice 3\n",
    "\n",
    "Create your own public key and private key for RSA cryptosystem. The two prime numbers\n",
    "must have 600 digits and they have to be safe prime numbers. Then, Set up your own RSA\n",
    "cryptosystem. Demonstrate how a message addressed to you can be encrypted and how you\n",
    "can decrypt it using your private key."
   ]
  },
  {
   "cell_type": "code",
   "execution_count": 2,
   "metadata": {
    "colab": {
     "base_uri": "https://localhost:8080/"
    },
    "id": "GsFXF35gYCMu",
    "outputId": "269adfd2-e04f-4b41-9645-94b06d0a32b2"
   },
   "outputs": [
    {
     "name": "stdout",
     "output_type": "stream",
     "text": [
      "Collecting gmpy2\n",
      "  Downloading gmpy2-2.2.1-cp311-cp311-manylinux_2_17_x86_64.manylinux2014_x86_64.whl.metadata (2.8 kB)\n",
      "Downloading gmpy2-2.2.1-cp311-cp311-manylinux_2_17_x86_64.manylinux2014_x86_64.whl (1.7 MB)\n",
      "\u001b[2K   \u001b[90m━━━━━━━━━━━━━━━━━━━━━━━━━━━━━━━━━━━━━━━━\u001b[0m \u001b[32m1.7/1.7 MB\u001b[0m \u001b[31m18.0 MB/s\u001b[0m eta \u001b[36m0:00:00\u001b[0m\n",
      "\u001b[?25hInstalling collected packages: gmpy2\n",
      "Successfully installed gmpy2-2.2.1\n"
     ]
    }
   ],
   "source": [
    "#pip install gmpy2"
   ]
  },
  {
   "cell_type": "code",
   "execution_count": 39,
   "metadata": {
    "id": "MI44h4vyX5Yx"
   },
   "outputs": [],
   "source": [
    "from sympy import isprime, nextprime, factorint\n",
    "import gmpy2\n",
    "import random"
   ]
  },
  {
   "cell_type": "markdown",
   "metadata": {
    "id": "C6FmYcyxYaAa"
   },
   "source": [
    "### Function to generate a safe prime using strong primality test"
   ]
  },
  {
   "cell_type": "code",
   "execution_count": 65,
   "metadata": {
    "id": "32FIa6jcW2jA"
   },
   "outputs": [],
   "source": [
    "import random\n",
    "import sympy\n",
    "from concurrent.futures import ThreadPoolExecutor, as_completed\n",
    "\n",
    "def strong_pseudoprimality_test(N):\n",
    "    \"\"\"\n",
    "    Strong pseudoprimality test (Miller-Rabin). Returns \"composite\" or \"probably prime\".\n",
    "    \"\"\"\n",
    "    if N < 3 or N % 2 == 0:\n",
    "        return \"composite\"\n",
    "\n",
    "    e, m = 0, N - 1\n",
    "    while m % 2 == 0:\n",
    "        e += 1\n",
    "        m //= 2\n",
    "\n",
    "    # Randomly choose a base for the test\n",
    "    x = random.randint(2, N - 2)\n",
    "    if sympy.gcd(x, N) != 1:\n",
    "        return \"composite\"\n",
    "\n",
    "    y = pow(x, m, N)\n",
    "    if y == 1:\n",
    "        return \"probably prime\"\n",
    "\n",
    "    for _ in range(e):\n",
    "        if y == N - 1:\n",
    "            return \"probably prime\"\n",
    "        y = (y * y) % N\n",
    "\n",
    "    return \"composite\"\n",
    "\n",
    "def generate_safe_prime_t(n):\n",
    "    \"\"\"\n",
    "    Generates a probable safe prime (p such that (p-1)/2 is also prime) with approximately n bits.\n",
    "    \"\"\"\n",
    "    # Calculate limits using integer arithmetic only\n",
    "    x = 2 ** n\n",
    "    y0 = (x - 1) // (2 * n)  # Avoid floating-point calculations\n",
    "    y1 = (2 ** (n - 1)) - 1\n",
    "\n",
    "    with ThreadPoolExecutor() as executor:\n",
    "        while True:\n",
    "            l = random.randint(y0, y1)\n",
    "            futures = {\n",
    "                executor.submit(strong_pseudoprimality_test, l): \"l\",\n",
    "                executor.submit(strong_pseudoprimality_test, 2 * l + 1): \"2l + 1\"\n",
    "            }\n",
    "            for future in as_completed(futures):\n",
    "                result = future.result()\n",
    "                if futures[future] == \"l\":\n",
    "                    result_l = result\n",
    "                else:\n",
    "                    result_2l_plus_1 = result\n",
    "\n",
    "            if result_l == \"probably prime\" and result_2l_plus_1 == \"probably prime\":\n",
    "                return 2 * l + 1\n",
    "\n",
    "            for j in range(n // 4, n // 2):\n",
    "                l1_min = 2 ** j + 1\n",
    "                l1_max = 2 ** (j + 1)\n",
    "\n",
    "                if l1_min >= l1_max:\n",
    "                    continue\n",
    "\n",
    "                l1 = random.randint(l1_min, l1_max - 1)\n",
    "                l2_min = (y0 + 1) // l1\n",
    "                l2_max = y1 // l1\n",
    "\n",
    "                if l2_min >= l2_max:\n",
    "                    continue\n",
    "\n",
    "                l2 = random.randint(l2_min, l2_max)\n",
    "\n",
    "                # Use parallelism to check the primality of l1, l2, and 2*l1*l2 + 1\n",
    "                futures = {\n",
    "                    executor.submit(strong_pseudoprimality_test, l1): \"l1\",\n",
    "                    executor.submit(strong_pseudoprimality_test, l2): \"l2\",\n",
    "                    executor.submit(strong_pseudoprimality_test, 2 * l1 * l2 + 1): \"2*l1*l2 + 1\"\n",
    "                }\n",
    "                results = {}\n",
    "                for future in as_completed(futures):\n",
    "                    results[futures[future]] = future.result()\n",
    "\n",
    "                if (results[\"l1\"] == \"probably prime\" and\n",
    "                    results[\"l2\"] == \"probably prime\" and\n",
    "                    results[\"2*l1*l2 + 1\"] == \"probably prime\"):\n",
    "                    return 2 * l1 * l2 + 1\n",
    "\n"
   ]
  },
  {
   "cell_type": "markdown",
   "metadata": {
    "id": "n46M6VEUYp1U"
   },
   "source": [
    "# Test of the generated numbers"
   ]
  },
  {
   "cell_type": "code",
   "execution_count": 68,
   "metadata": {
    "colab": {
     "base_uri": "https://localhost:8080/"
    },
    "id": "-VL9u6aaXDQE",
    "outputId": "640efe11-6a6d-4d91-f592-472ce1874fec"
   },
   "outputs": [
    {
     "name": "stdout",
     "output_type": "stream",
     "text": [
      "=========================================================\n",
      "p:  1217040076609411615839262227942218257476267789649527875069393536983025964696025516125817827\n",
      "Number of decimal digits: 91\n",
      "{1217040076609411615839262227942218257476267789649527875069393536983025964696025516125817827: 1}\n",
      "=========================================================\n",
      "q:  163088019152089316197019699901786434995486377038072109720482765947816686583923280041918767\n",
      "Number of decimal digits: 90\n",
      "{163088019152089316197019699901786434995486377038072109720482765947816686583923280041918767: 1}\n",
      "=========================================================\n",
      "CPU times: user 6min 17s, sys: 19.7 s, total: 6min 37s\n",
      "Wall time: 6min 41s\n"
     ]
    }
   ],
   "source": [
    "%%time\n",
    "print(\"=========================================================\")\n",
    "p = generate_safe_prime_t(300)\n",
    "print(\"p: \", p)\n",
    "decimal_digits = len(str(p))\n",
    "print(f\"Number of decimal digits: {decimal_digits}\")\n",
    "print(factorint(p))\n",
    "#print(factorint(p-1))\n",
    "\n",
    "print(\"=========================================================\")\n",
    "q = generate_safe_prime_t(300)\n",
    "print(\"q: \", q)\n",
    "decimal_digits = len(str(q))\n",
    "print(f\"Number of decimal digits: {decimal_digits}\")\n",
    "print(factorint(q))\n",
    "#print(factorint(q-1))\n",
    "print(\"=========================================================\")"
   ]
  },
  {
   "cell_type": "markdown",
   "metadata": {
    "id": "h4R7OUHnf5_R"
   },
   "source": [
    "# NB: This code taking long time, we choose to use in built function and parallelism"
   ]
  },
  {
   "cell_type": "markdown",
   "metadata": {
    "id": "CxgTmsS4Yv9z"
   },
   "source": [
    "### Function to generate a safe prime using in built function"
   ]
  },
  {
   "cell_type": "code",
   "execution_count": 42,
   "metadata": {
    "colab": {
     "base_uri": "https://localhost:8080/"
    },
    "id": "fkpJwmZuRQLL",
    "outputId": "d5011aca-3466-4167-ccd3-5d24958d9487"
   },
   "outputs": [
    {
     "name": "stdout",
     "output_type": "stream",
     "text": [
      "\n",
      "Generating two 600-digit safe primes in parallel...\n",
      "\n",
      "Generated safe prime 1: 343045481342836958005403432588425232453333816012904686943263837247177406593459493555666703082751840130731060715259573030506386525356591284595131563602031750832623330957231321812319300081157764151549879434561535786143620237471565383998260868132068834511882569614765161552148320605615460765671500337931232299738761509790549709413894343358376466526025094290140979802179035086092617776555030020740789370131807375512610818374793088232572636310418366123258555317074800016697002593110857799049146314698882985598863633799459446039461969110928630145157990326215378792511563150152002723387116808046300693719083\n",
      "\n",
      "Generated safe prime 2: 182121161759333682480451439604117199590024997575231877000784883899013859858103594865723676300309443155503451696246717075247556051968398323927874916219213903734913995004697157100910032668286449467757660835006576826214593791113658307531893837912766917508441674221030964962480419879060187278334256689721818242155580852534389003833606378142613238094245782899666563675915876733324747831452740158153382341787162630782034198659460977228486460775001719108998845028226097948742751754263734967268912377901226336957073506333194806281814086410566107423054256633901154116742674622440557571388092532972997719466483\n",
      "CPU times: user 18min 46s, sys: 5.3 s, total: 18min 52s\n",
      "Wall time: 18min 57s\n"
     ]
    }
   ],
   "source": [
    "%%time\n",
    "\n",
    "import gmpy2\n",
    "import random\n",
    "from concurrent.futures import ThreadPoolExecutor\n",
    "\n",
    "def isprime(n):\n",
    "    \"\"\"Check if n is a prime number.\"\"\"\n",
    "    return gmpy2.is_prime(n)\n",
    "\n",
    "def generate_safe_prime(n_bits=1992):\n",
    "    \"\"\"Generate a safe prime p where (p-1)/2 is prime.\"\"\"\n",
    "    x = gmpy2.mpz(2) ** n_bits  # x = 2^n\n",
    "    ln_x = gmpy2.log(x)  # Natural logarithm of x\n",
    "    y0 = (x - ln_x) / (2 * ln_x)  # Compute y0\n",
    "    y1 = gmpy2.mpz(2) ** (n_bits - 1) - 1  # Compute y1\n",
    "\n",
    "    while True:\n",
    "        # Choose l uniformly at random in the range [y0, y1]\n",
    "        l = random.randint(int(y0), int(y1))\n",
    "\n",
    "        # Check if l and 2l + 1 are prime\n",
    "        if isprime(l):\n",
    "            p = 2 * l + 1\n",
    "\n",
    "            if isprime(p) and len(str(p)) >= 600:  # Ensure at least 600 digits\n",
    "                return p\n",
    "\n",
    "# Function to generate two safe primes in parallel\n",
    "def generate_two_safe_primes(n_bits=1992):\n",
    "    with ThreadPoolExecutor() as executor:\n",
    "        future1 = executor.submit(generate_safe_prime, n_bits)\n",
    "        future2 = executor.submit(generate_safe_prime, n_bits)\n",
    "\n",
    "        p = future1.result()\n",
    "        q = future2.result()\n",
    "\n",
    "    return p, q\n",
    "\n",
    "# Generate two 600-digit safe primes\n",
    "print(\"\\nGenerating two 600-digit safe primes in parallel...\")\n",
    "p, q = generate_two_safe_primes()\n",
    "print(f\"\\nGenerated safe prime 1: {p}\")\n",
    "print(f\"\\nGenerated safe prime 2: {q}\")"
   ]
  },
  {
   "cell_type": "markdown",
   "metadata": {
    "id": "iGeoaLDgY4_u"
   },
   "source": [
    "# Test of the generated numbers"
   ]
  },
  {
   "cell_type": "code",
   "execution_count": 43,
   "metadata": {
    "colab": {
     "base_uri": "https://localhost:8080/"
    },
    "id": "Ughp8aOUPpKD",
    "outputId": "cad1d221-2038-4bc4-ff52-9648de62ed4b"
   },
   "outputs": [
    {
     "name": "stdout",
     "output_type": "stream",
     "text": [
      "=========================================================\n",
      "p:  343045481342836958005403432588425232453333816012904686943263837247177406593459493555666703082751840130731060715259573030506386525356591284595131563602031750832623330957231321812319300081157764151549879434561535786143620237471565383998260868132068834511882569614765161552148320605615460765671500337931232299738761509790549709413894343358376466526025094290140979802179035086092617776555030020740789370131807375512610818374793088232572636310418366123258555317074800016697002593110857799049146314698882985598863633799459446039461969110928630145157990326215378792511563150152002723387116808046300693719083\n",
      "Number of decimal digits: 600\n",
      "{343045481342836958005403432588425232453333816012904686943263837247177406593459493555666703082751840130731060715259573030506386525356591284595131563602031750832623330957231321812319300081157764151549879434561535786143620237471565383998260868132068834511882569614765161552148320605615460765671500337931232299738761509790549709413894343358376466526025094290140979802179035086092617776555030020740789370131807375512610818374793088232572636310418366123258555317074800016697002593110857799049146314698882985598863633799459446039461969110928630145157990326215378792511563150152002723387116808046300693719083: 1}\n",
      "{2: 1, 171522740671418479002701716294212616226666908006452343471631918623588703296729746777833351541375920065365530357629786515253193262678295642297565781801015875416311665478615660906159650040578882075774939717280767893071810118735782691999130434066034417255941284807382580776074160302807730382835750168965616149869380754895274854706947171679188233263012547145070489901089517543046308888277515010370394685065903687756305409187396544116286318155209183061629277658537400008348501296555428899524573157349441492799431816899729723019730984555464315072578995163107689396255781575076001361693558404023150346859541: 1}\n",
      "=========================================================\n",
      "q:  182121161759333682480451439604117199590024997575231877000784883899013859858103594865723676300309443155503451696246717075247556051968398323927874916219213903734913995004697157100910032668286449467757660835006576826214593791113658307531893837912766917508441674221030964962480419879060187278334256689721818242155580852534389003833606378142613238094245782899666563675915876733324747831452740158153382341787162630782034198659460977228486460775001719108998845028226097948742751754263734967268912377901226336957073506333194806281814086410566107423054256633901154116742674622440557571388092532972997719466483\n",
      "Number of decimal digits: 600\n",
      "{182121161759333682480451439604117199590024997575231877000784883899013859858103594865723676300309443155503451696246717075247556051968398323927874916219213903734913995004697157100910032668286449467757660835006576826214593791113658307531893837912766917508441674221030964962480419879060187278334256689721818242155580852534389003833606378142613238094245782899666563675915876733324747831452740158153382341787162630782034198659460977228486460775001719108998845028226097948742751754263734967268912377901226336957073506333194806281814086410566107423054256633901154116742674622440557571388092532972997719466483: 1}\n",
      "{2: 1, 91060580879666841240225719802058599795012498787615938500392441949506929929051797432861838150154721577751725848123358537623778025984199161963937458109606951867456997502348578550455016334143224733878830417503288413107296895556829153765946918956383458754220837110515482481240209939530093639167128344860909121077790426267194501916803189071306619047122891449833281837957938366662373915726370079076691170893581315391017099329730488614243230387500859554499422514113048974371375877131867483634456188950613168478536753166597403140907043205283053711527128316950577058371337311220278785694046266486498859733241: 1}\n",
      "=========================================================\n",
      "CPU times: user 729 ms, sys: 4 ms, total: 733 ms\n",
      "Wall time: 742 ms\n"
     ]
    }
   ],
   "source": [
    "%%time\n",
    "print(\"=========================================================\")\n",
    "#p = generate_safe_prime_t(92)\n",
    "print(\"p: \", p)\n",
    "decimal_digits = len(str(p))\n",
    "print(f\"Number of decimal digits: {decimal_digits}\")\n",
    "print(factorint(p))\n",
    "print(factorint(p- 1))\n",
    "\n",
    "print(\"=========================================================\")\n",
    "#q = generate_safe_prime_t(92)\n",
    "print(\"q: \", q)\n",
    "decimal_digits = len(str(q))\n",
    "print(f\"Number of decimal digits: {decimal_digits}\")\n",
    "print(factorint(q))\n",
    "print(factorint(q-1))\n",
    "print(\"=========================================================\")"
   ]
  },
  {
   "cell_type": "markdown",
   "metadata": {
    "id": "ZwkosF5qZJga"
   },
   "source": [
    "### We are testing the primality of  p and q generate\n",
    "\n",
    "For this we choose 1992 bits"
   ]
  },
  {
   "cell_type": "code",
   "execution_count": 51,
   "metadata": {
    "id": "XW6GIMxFYHje"
   },
   "outputs": [],
   "source": [
    "def letters_to_numbers(input_string):\n",
    "    \"\"\"Converts letters (Space, A-Z) to numbers (00-36).\"\"\"\n",
    "    letter_map = { \" \": \"00\", \"A\": \"11\", \"B\": \"12\", \"C\": \"13\", \"D\": \"14\", \"E\": \"15\", \"F\": \"16\", \"G\": \"17\",\n",
    "        \"H\": \"18\", \"I\": \"19\", \"J\": \"20\", \"K\": \"21\", \"L\": \"22\", \"M\": \"23\", \"N\": \"24\",\n",
    "        \"O\": \"25\", \"P\": \"26\", \"Q\": \"27\", \"R\": \"28\", \"S\": \"29\", \"T\": \"30\", \"U\": \"31\",\n",
    "        \"V\": \"32\", \"W\": \"33\", \"X\": \"34\", \"Y\": \"35\", \"Z\": \"36\" }\n",
    "    number_string = \"\"\n",
    "    for char in input_string:\n",
    "        if char in letter_map:\n",
    "            number_string += letter_map[char]\n",
    "        else:\n",
    "            raise ValueError(f\"Character '{char}' is not supported.\")\n",
    "    return int(number_string)\n",
    "\n",
    "\n",
    "def numbers_to_letters(input_string):\n",
    "    \"\"\"Converts numbers (00-36) to letters (Space, A-Z).\"\"\"\n",
    "    letter_map = { \"00\": \" \", \"11\": \"A\", \"12\": \"B\", \"13\": \"C\", \"14\": \"D\", \"15\": \"E\", \"16\": \"F\", \"17\": \"G\",\n",
    "        \"18\": \"H\", \"19\": \"I\", \"20\": \"J\", \"21\": \"K\", \"22\": \"L\", \"23\": \"M\", \"24\": \"N\",\n",
    "        \"25\": \"O\", \"26\": \"P\", \"27\": \"Q\", \"28\": \"R\", \"29\": \"S\", \"30\": \"T\", \"31\": \"U\",\n",
    "        \"32\": \"V\", \"33\": \"W\", \"34\": \"X\", \"35\": \"Y\", \"36\": \"Z\" }\n",
    "    message = \"\"\n",
    "    input_string = str(input_string)\n",
    "    for i in range(0, len(input_string), 2):\n",
    "        pair = input_string[i:i+2]\n",
    "        for key, value in letter_map.items():\n",
    "            if key == pair:\n",
    "                message += value\n",
    "                break\n",
    "    return message"
   ]
  },
  {
   "cell_type": "markdown",
   "metadata": {
    "id": "bdwdDtuYZPKI"
   },
   "source": [
    "### Necessaries functions"
   ]
  },
  {
   "cell_type": "code",
   "execution_count": 52,
   "metadata": {
    "id": "FKrdgg8yPUKY"
   },
   "outputs": [],
   "source": [
    "def Extended_Euclidean(a,b):\n",
    "  old_r = a\n",
    "  old_u = 1\n",
    "  old_v = 0\n",
    "  r = b\n",
    "  u = 0\n",
    "  v = 1\n",
    "\n",
    "  while r != 0:\n",
    "    quotient = old_r // r\n",
    "    old_r, r = r, old_r - quotient * r\n",
    "    old_u, u = u, old_u - quotient * u\n",
    "    old_v, v = v, old_v - quotient * v\n",
    "\n",
    "  d = old_r\n",
    "  u = old_u\n",
    "  v = v\n",
    "\n",
    "\n",
    "  return u, v, d\n",
    "\n",
    "\n",
    "def inverse(a, n):\n",
    "  u, v, d = Extended_Euclidean(a, n)\n",
    "  if d != 1:\n",
    "    return \"a is not invertible in Z/nZ\"\n",
    "  return u % n"
   ]
  },
  {
   "cell_type": "markdown",
   "metadata": {
    "id": "eoscrP7BZVNm"
   },
   "source": [
    "### Application example"
   ]
  },
  {
   "cell_type": "code",
   "execution_count": 53,
   "metadata": {
    "colab": {
     "base_uri": "https://localhost:8080/"
    },
    "id": "_Md9FLa9YHg7",
    "outputId": "0142a218-8a0d-45c7-8719-fd404a2ef7af"
   },
   "outputs": [
    {
     "name": "stdout",
     "output_type": "stream",
     "text": [
      "=========================================================\n",
      "Public Key: (n, e) = (62475841598447294431987704425164947195829235277381426741161851151979215321651285321532401995170083967519645918308854282571938447939064289959010972430156929750172651339551416132861943533637190865429919683476556937817522832686830608607515374755945768050783458082741939596753490270268088904175951558097762103653895183295357860023793525518471206822712639443454137218327373963929249292923771591557229335274072219883992630633386744766164020492164373064393809730845720727302002500708221782589613593021550727910970953785270758662869052412201494797396572404701381909429100249825286667707416724424913334811815637109504869238660624684698029880673350913404236492135140960393036294454858320365719036042797664206410917920002068721112068681912369555897508923354844278432026692960755924440222237523339283217846546405563952816044761598357579185798857082051817310024485055055721439826174664133071589656337731823118508536929227008381159931599389882468496147807653925427597872399857069124931635193786019925867279084252086579961549437374614061019753595128670210541729859070635151589675702745967948349322505154067864584067354123356780815433427714153452826682428067231632686327663674696376266915592249532803872279835995089, 65537)\n",
      "=========================================================\n",
      "Private Key: (n, d) = (62475841598447294431987704425164947195829235277381426741161851151979215321651285321532401995170083967519645918308854282571938447939064289959010972430156929750172651339551416132861943533637190865429919683476556937817522832686830608607515374755945768050783458082741939596753490270268088904175951558097762103653895183295357860023793525518471206822712639443454137218327373963929249292923771591557229335274072219883992630633386744766164020492164373064393809730845720727302002500708221782589613593021550727910970953785270758662869052412201494797396572404701381909429100249825286667707416724424913334811815111942861767068020138829825837338241307554590648355571196911671890103188406757277297645663414602923124683407590562431006314739335044566288985916875023032777459155634793995961309008190589839004227238865294384703432403384328993962107326927345772474272464730811885643699660035392586914008293726066090855486387332666018834992886142381746995158103033654550408064856378974213112217828178012155688384912540167609955254792357579806954292536031584790456497601670289850691710262991620573756556187095375264474744798186216648161181106438097931331944859854984672569794754420458603674355297474323462852981422809524, 41598765580228643165366853197444539737619975583244477450967845624897645894546548325002814072405464914333197871999686807888546592805849343438689012373693607328810961540870121393864483116061554508060567392890527718625253579656609659700720942493937859231152444578735828893350810304464479538451958407322764925418389979911493216623560402109488198302069234896226683946414263967895702448926783663286125646632508193220284517493158023427393676277775558042189185883163933585261416957190665943312372680450454081112212025425757359900081127303831982368341459481269423415502046898723256089212941446873215789419460397025354516220565402720861651646075284766767965001328414783017627728349367619319002050197818377828652391929093937360602751976446333212370912285497892489453438289430939859953364377228325507799067153247247372710128321199962834879907188689268466262719189823434674364620322336457669944711840842948960231027655889582175929666975488580684096429713628630904926327511753807738187250703697207935025619915902700672835458647391667455575697138941518005113907958009772162513300284513562521583454267608845238809900342683551823791285227301208163778202814432945758227079873943658575896636130977723315814204958224197)\n",
      "=========================================================\n",
      "=========================================================\n",
      "The input message is: The following algorithm picks alternatingly random candidates for these two options until success\n",
      "=========================================================\n",
      "Encrypted message : 27025689820172540855464033171778653732939026967741860738086278022884130770181779266820008185598619557855096245365855310834342680303807553205706049858651662798756114105270234455351708460886090846022131133749589091950759295524573504106802509443366406152190074940291792758355016577772009865159676131625026809832445664945611492479941966533155191783313323015519798816390459891383774701205297029706977726515220245322059642059389107026322221071700570122240273673606182701913010250707681949861070004311011305262331365673585461862712675502824170767397646297038879887954052661682807953625487265312132985705313668631230221899413596689461653638132024115343729958201427371891112943597610908731629230170986960129620374808950079239598918025912131602669845983249943780505770345486346652093307538757836544574232789867601597942240084439301659170305993355742695976588684034693445593161154551832934066779222646387312237032849853684795613983550738078747053747169669180292992815510094397626519652150641144258857025058968885632263686634182620412278994110907646404353320305964547934112756121528160622391897160335527452627372800310798443340727714658197903781766980637777128003467855446284196232714222621586194349895382523810\n",
      "=========================================================\n",
      "30181500162522222533192417001122172528193018230026191321290011223015282411301924172235002811241425230013112414191411301529001625280030181529150030332500252630192524290031243019220029311313152929\n",
      "Decrypted message: THE FOLLOWING ALGORITHM PICKS ALTERNATINGLY RANDOM CANDIDATES FOR THESE TWO OPTIONS UNTIL SUCCESS\n"
     ]
    }
   ],
   "source": [
    "# Compute n and Euler_totient(n)\n",
    "n = p * q\n",
    "phi_n = (p-1) * (q-1)\n",
    "\n",
    "\n",
    "# Choose a public exponent e\n",
    "e = 65537\n",
    "\n",
    "# Compute the private exponent d\n",
    "d = inverse(e, phi_n)\n",
    "\n",
    "# Display the keys\n",
    "print(\"=========================================================\")\n",
    "print(\"Public Key: (n, e) =\", (n, e))\n",
    "print(\"=========================================================\")\n",
    "print(\"Private Key: (n, d) =\", (phi_n, d))\n",
    "print(\"=========================================================\")\n",
    "\n",
    "# Example message to encrypt\n",
    "message = \"The following algorithm picks alternatingly random candidates for \\\n",
    "these two options until success\"\n",
    "print(\"=========================================================\")\n",
    "print(\"The input message is:\", message)\n",
    "print(\"=========================================================\")\n",
    "# Convert message to a number\n",
    "m = letters_to_numbers(message.upper())\n",
    "\n",
    "# Encrypt the message: c = m^e mod n\n",
    "c = pow(m, e, n)\n",
    "\n",
    "print(\"Encrypted message :\", c)\n",
    "print(\"=========================================================\")\n",
    "\n",
    "# Decrypt the message: m' = c^d mod n\n",
    "m_decrypted = pow(c, d, n)\n",
    "print(m_decrypted)\n",
    "\n",
    "# Convert back to string\n",
    "decrypted_message = numbers_to_letters(m_decrypted)\n",
    "print(\"Decrypted message:\", decrypted_message)\n"
   ]
  },
  {
   "cell_type": "code",
   "execution_count": null,
   "metadata": {
    "id": "I6vuMzSSYHdU"
   },
   "outputs": [],
   "source": []
  }
 ],
 "metadata": {
  "colab": {
   "provenance": []
  },
  "kernelspec": {
   "display_name": "Python 3 (ipykernel)",
   "language": "python",
   "name": "python3"
  },
  "language_info": {
   "codemirror_mode": {
    "name": "ipython",
    "version": 3
   },
   "file_extension": ".py",
   "mimetype": "text/x-python",
   "name": "python",
   "nbconvert_exporter": "python",
   "pygments_lexer": "ipython3",
   "version": "3.8.10"
  }
 },
 "nbformat": 4,
 "nbformat_minor": 4
}
